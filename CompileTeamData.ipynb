{
 "cells": [
  {
   "cell_type": "code",
   "execution_count": 12,
   "metadata": {
    "collapsed": false
   },
   "outputs": [],
   "source": [
    "from nba_api.stats.endpoints import commonplayerinfo\n",
    "import pandas as pd\n",
    "from nba_api.stats.endpoints import leaguedashplayershotlocations\n",
    "from nba_api.stats.static import players"
   ]
  },
  {
   "cell_type": "code",
   "execution_count": 16,
   "metadata": {
    "collapsed": false
   },
   "outputs": [],
   "source": [
    "a = leaguedashplayershotlocations.LeagueDashPlayerShotLocations.get_data_frames"
   ]
  },
  {
   "cell_type": "code",
   "execution_count": 17,
   "metadata": {
    "collapsed": false
   },
   "outputs": [
    {
     "data": {
      "text/plain": [
       "<function nba_api.stats.endpoints._base.Endpoint.get_data_frames>"
      ]
     },
     "execution_count": 17,
     "metadata": {},
     "output_type": "execute_result"
    }
   ],
   "source": []
  },
  {
   "cell_type": "code",
   "execution_count": 8,
   "metadata": {
    "collapsed": false
   },
   "outputs": [
    {
     "data": {
      "text/plain": [
       "'Hawks'"
      ]
     },
     "execution_count": 8,
     "metadata": {},
     "output_type": "execute_result"
    }
   ],
   "source": [
    "teams.find_team_name_by_id(team_id=1610612737)['nickname']"
   ]
  },
  {
   "cell_type": "code",
   "execution_count": 74,
   "metadata": {
    "collapsed": true
   },
   "outputs": [],
   "source": [
    "# This cell is used to collect the team dashboard data, for each team\n",
    "# This data is converted to a dataframe \n",
    "all_teams_df = pd.DataFrame()\n",
    "for t, team in enumerate(team_data.keys()):\n",
    "    teams_yr_data = teamdashboardbyyearoveryear.TeamDashboardByYearOverYear(team_id=team_data[team]['id'])\n",
    "    more_data = teams_yr_data.get_dict()\n",
    "    yr_by_yr_dict = more_data['resultSets'][1]\n",
    "    yr_by_yr_data_dict = {row[1]:row[2:-1] for row in yr_by_yr_dict['rowSet']}\n",
    "    yr_by_yr_df = pd.DataFrame.from_dict(yr_by_yr_data_dict).T.reset_index()\n",
    "    yr_by_yr_df['team'] = team\n",
    "    if t == 0:\n",
    "        all_teams_df = yr_by_yr_df\n",
    "    else:\n",
    "        all_teams_df = pd.concat([all_teams_df, yr_by_yr_df])"
   ]
  },
  {
   "cell_type": "code",
   "execution_count": null,
   "metadata": {
    "collapsed": true
   },
   "outputs": [],
   "source": [
    "# Clean-up column names\n",
    "column_names = yr_by_yr_dict['headers'][1:-1]\n",
    "column_names.append('Team')\n",
    "all_teams_df.columns = column_names"
   ]
  },
  {
   "cell_type": "code",
   "execution_count": 32,
   "metadata": {
    "collapsed": false
   },
   "outputs": [
    {
     "name": "stdout",
     "output_type": "stream",
     "text": [
      "Working on Hawks\n",
      "Working on Celtics\n",
      "Working on Cavaliers\n",
      "Working on Pelicans\n",
      "Working on Bulls\n",
      "Working on Mavericks\n",
      "Working on Nuggets\n",
      "Working on Warriors\n",
      "Working on Rockets\n",
      "Working on Clippers\n",
      "Working on Lakers\n",
      "Working on Heat\n",
      "Working on Bucks\n",
      "Working on Timberwolves\n",
      "Working on Nets\n",
      "Working on Knicks\n",
      "Working on Magic\n",
      "Working on Pacers\n",
      "Working on 76ers\n",
      "Working on Suns\n",
      "Working on Trail Blazers\n",
      "Working on Kings\n",
      "Working on Spurs\n",
      "Working on Thunder\n",
      "Working on Raptors\n",
      "Working on Jazz\n",
      "Working on Grizzlies\n",
      "Working on Wizards\n",
      "Working on Pistons\n",
      "Working on Hornets\n"
     ]
    }
   ],
   "source": [
    "# High level stats on W/L, playoff appearance, et cetera for each team going back to 1950. \n",
    "# This data is stored in a data frame.\n",
    "all_teams_stats_df = pd.DataFrame()\n",
    "for t, team in enumerate(team_data.keys()):\n",
    "    print(\"Working on\", team)\n",
    "    stats_by_team = teamyearbyyearstats.TeamYearByYearStats(team_id=team_data[team]['id'])\n",
    "    team_stats_df = stats_by_team.get_data_frames()[0]\n",
    "    if t == 0:\n",
    "        all_teams_stats_df = team_stats_df\n",
    "    else:\n",
    "        all_teams_stats_df = pd.concat([all_teams_stats_df, team_stats_df])"
   ]
  },
  {
   "cell_type": "code",
   "execution_count": 33,
   "metadata": {
    "collapsed": true
   },
   "outputs": [],
   "source": [
    "# Need to add short year as a variable to the all_team_stats_df for consitency with POW data\n",
    "def create_short_yr(long_yr):\n",
    "    return int(long_yr[:4])+1\n",
    "\n",
    "all_teams_stats_df['season_short'] = all_teams_stats_df['YEAR'].map(create_short_yr)"
   ]
  },
  {
   "cell_type": "code",
   "execution_count": 34,
   "metadata": {
    "collapsed": false
   },
   "outputs": [],
   "source": [
    "# Store binary and csv files of the dataframes of the yr-by-yr stats data.\n",
    "all_teams_stats_df.to_pickle('TeamData/all_teams_stats.pkl')\n",
    "all_teams_stats_df.to_csv('TeamData/all_teams_stats.csv')"
   ]
  },
  {
   "cell_type": "code",
   "execution_count": 79,
   "metadata": {
    "collapsed": false
   },
   "outputs": [],
   "source": [
    "# Store binary and csv files of the dataframes for the dashboard data\n",
    "all_teams_df.to_pickle('TeamData/all_teams_yr_by_yr.pkl')\n",
    "all_teams_df.to_csv('TeamData/all_teams_yr_by_yr.csv')"
   ]
  }
 ],
 "metadata": {
  "kernelspec": {
   "display_name": "Python 3",
   "language": "python",
   "name": "python3"
  },
  "language_info": {
   "codemirror_mode": {
    "name": "ipython",
    "version": 3
   },
   "file_extension": ".py",
   "mimetype": "text/x-python",
   "name": "python",
   "nbconvert_exporter": "python",
   "pygments_lexer": "ipython3",
   "version": "3.6.6"
  }
 },
 "nbformat": 4,
 "nbformat_minor": 2
}
